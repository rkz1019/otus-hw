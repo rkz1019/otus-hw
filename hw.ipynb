{
 "cells": [
  {
   "cell_type": "code",
   "execution_count": 1,
   "id": "29458c45",
   "metadata": {},
   "outputs": [],
   "source": [
    "import pandas as pd\n",
    "import scipy.stats as stats\n",
    "\n",
    "# create sample data according to survey\n",
    "data = [['Хорошее', 'Благоприятная'] for i in range(12)] + \\\n",
    "        [['Хорошее', 'Напряженная'] for i in range(48)] + \\\n",
    "        [['Хорошее', 'Взрывоопасная критическа'] for i in range(47)] + \\\n",
    "        [['Среднее', 'Благоприятная'] for i in range(20)] + \\\n",
    "        [['Среднее', 'Напряженная'] for i in range(478)] + \\\n",
    "        [['Среднее', 'Взрывоопасная критическа'] for i in range(666)] + \\\n",
    "        [['Плохое', 'Благоприятная'] for i in range(11)] + \\\n",
    "        [['Плохое', 'Напряженная'] for i in range(160)] + \\\n",
    "        [['Плохое', 'Взрывоопасная критическа'] for i in range(701)]\n",
    "df = pd.DataFrame(data, columns = ['A', 'B']) "
   ]
  },
  {
   "cell_type": "code",
   "execution_count": 2,
   "id": "8a0bb9b8",
   "metadata": {},
   "outputs": [],
   "source": [
    "data_crosstab = pd.crosstab(df['A'],\n",
    "                            df['B'],\n",
    "                           margins=True, margins_name=\"Total\")"
   ]
  },
  {
   "cell_type": "code",
   "execution_count": 3,
   "id": "9dad4785",
   "metadata": {},
   "outputs": [
    {
     "data": {
      "text/html": [
       "<div>\n",
       "<style scoped>\n",
       "    .dataframe tbody tr th:only-of-type {\n",
       "        vertical-align: middle;\n",
       "    }\n",
       "\n",
       "    .dataframe tbody tr th {\n",
       "        vertical-align: top;\n",
       "    }\n",
       "\n",
       "    .dataframe thead th {\n",
       "        text-align: right;\n",
       "    }\n",
       "</style>\n",
       "<table border=\"1\" class=\"dataframe\">\n",
       "  <thead>\n",
       "    <tr style=\"text-align: right;\">\n",
       "      <th>B</th>\n",
       "      <th>Благоприятная</th>\n",
       "      <th>Взрывоопасная критическа</th>\n",
       "      <th>Напряженная</th>\n",
       "      <th>Total</th>\n",
       "    </tr>\n",
       "    <tr>\n",
       "      <th>A</th>\n",
       "      <th></th>\n",
       "      <th></th>\n",
       "      <th></th>\n",
       "      <th></th>\n",
       "    </tr>\n",
       "  </thead>\n",
       "  <tbody>\n",
       "    <tr>\n",
       "      <th>Плохое</th>\n",
       "      <td>11</td>\n",
       "      <td>701</td>\n",
       "      <td>160</td>\n",
       "      <td>872</td>\n",
       "    </tr>\n",
       "    <tr>\n",
       "      <th>Среднее</th>\n",
       "      <td>20</td>\n",
       "      <td>666</td>\n",
       "      <td>478</td>\n",
       "      <td>1164</td>\n",
       "    </tr>\n",
       "    <tr>\n",
       "      <th>Хорошее</th>\n",
       "      <td>12</td>\n",
       "      <td>47</td>\n",
       "      <td>48</td>\n",
       "      <td>107</td>\n",
       "    </tr>\n",
       "    <tr>\n",
       "      <th>Total</th>\n",
       "      <td>43</td>\n",
       "      <td>1414</td>\n",
       "      <td>686</td>\n",
       "      <td>2143</td>\n",
       "    </tr>\n",
       "  </tbody>\n",
       "</table>\n",
       "</div>"
      ],
      "text/plain": [
       "B        Благоприятная  Взрывоопасная критическа  Напряженная  Total\n",
       "A                                                                   \n",
       "Плохое              11                       701          160    872\n",
       "Среднее             20                       666          478   1164\n",
       "Хорошее             12                        47           48    107\n",
       "Total               43                      1414          686   2143"
      ]
     },
     "execution_count": 3,
     "metadata": {},
     "output_type": "execute_result"
    }
   ],
   "source": [
    "data_crosstab"
   ]
  },
  {
   "cell_type": "code",
   "execution_count": 4,
   "id": "db43b554",
   "metadata": {},
   "outputs": [],
   "source": [
    "alpha = 0.05\n",
    "\n",
    "chi_square = 0\n",
    "rows = df['A'].unique()\n",
    "columns = df['B'].unique()\n",
    "for i in columns:\n",
    "    for j in rows:\n",
    "        O = data_crosstab[i][j]\n",
    "        E = data_crosstab[i]['Total'] * data_crosstab['Total'][j] / data_crosstab['Total']['Total']\n",
    "        chi_square += (O-E)**2/E"
   ]
  },
  {
   "cell_type": "code",
   "execution_count": 5,
   "id": "b07b7da8",
   "metadata": {},
   "outputs": [
    {
     "data": {
      "text/plain": [
       "183.16554258232173"
      ]
     },
     "execution_count": 5,
     "metadata": {},
     "output_type": "execute_result"
    }
   ],
   "source": [
    "chi_square"
   ]
  },
  {
   "cell_type": "markdown",
   "id": "b12a8f23",
   "metadata": {},
   "source": [
    "статистику хи-квадрат\n"
   ]
  },
  {
   "cell_type": "code",
   "execution_count": 6,
   "id": "d38a73a1",
   "metadata": {},
   "outputs": [
    {
     "data": {
      "text/plain": [
       "9.487729036781154"
      ]
     },
     "execution_count": 6,
     "metadata": {},
     "output_type": "execute_result"
    }
   ],
   "source": [
    "critical_value = stats.chi2.ppf(1-alpha, (len(rows)-1)*(len(columns)-1))\n",
    "critical_value"
   ]
  },
  {
   "cell_type": "markdown",
   "id": "44767b07",
   "metadata": {},
   "source": [
    "P-значение для критерия хи-квадрат Фишера-Пирсона\n",
    "\n"
   ]
  },
  {
   "cell_type": "code",
   "execution_count": 7,
   "id": "13661229",
   "metadata": {},
   "outputs": [
    {
     "data": {
      "text/plain": [
       "0.0"
      ]
     },
     "execution_count": 7,
     "metadata": {},
     "output_type": "execute_result"
    }
   ],
   "source": [
    "p_value = 1 - stats.chi2.cdf(chi_square, (len(rows)-1)*(len(columns)-1))\n",
    "p_value"
   ]
  },
  {
   "cell_type": "markdown",
   "id": "0add86b7",
   "metadata": {},
   "source": [
    "HO: для всех i, j P(Ai Bj) = P(Ai) P(Bj) (признаки независимы)\n",
    "HA: найдутся i*, j* P(Ai* Bj*) ≠ P(Ai*) P(Bj*) (признаки зависимы)\n",
    "\n"
   ]
  },
  {
   "cell_type": "code",
   "execution_count": 8,
   "id": "dfa56a45",
   "metadata": {},
   "outputs": [],
   "source": [
    "conclusion = \"Failed to reject the null hypothesis.\"\n",
    "if p_value <= alpha:\n",
    "    conclusion = \"Null Hypothesis is rejected\""
   ]
  },
  {
   "cell_type": "code",
   "execution_count": 9,
   "id": "99110cc8",
   "metadata": {},
   "outputs": [
    {
     "name": "stdout",
     "output_type": "stream",
     "text": [
      "chisquare-score is: 183.16554258232173  and p value is: 0.0\n",
      "Null Hypothesis is rejected\n"
     ]
    }
   ],
   "source": [
    "print(\"chisquare-score is:\", chi_square, \" and p value is:\", p_value)\n",
    "print(conclusion)"
   ]
  },
  {
   "cell_type": "markdown",
   "id": "c21a8536",
   "metadata": {},
   "source": [
    "нормированные коэффициенты связи, основанные на статистике хи-квадрат"
   ]
  },
  {
   "cell_type": "markdown",
   "id": "12857cb7",
   "metadata": {},
   "source": [
    "kоэффициент среднеквадратической сопряжённости:\n"
   ]
  },
  {
   "cell_type": "code",
   "execution_count": 10,
   "id": "c095f1c3",
   "metadata": {},
   "outputs": [
    {
     "data": {
      "text/plain": [
       "3.9566960668598976"
      ]
     },
     "execution_count": 10,
     "metadata": {},
     "output_type": "execute_result"
    }
   ],
   "source": [
    "x = (chi_square**2/data_crosstab['Total'].max())**0.5\n",
    "x"
   ]
  },
  {
   "cell_type": "markdown",
   "id": "0160c6d6",
   "metadata": {},
   "source": [
    "коэффициент Пирсона\n"
   ]
  },
  {
   "cell_type": "code",
   "execution_count": 11,
   "id": "0adeae9f",
   "metadata": {},
   "outputs": [
    {
     "data": {
      "text/plain": [
       "0.9695151212495482"
      ]
     },
     "execution_count": 11,
     "metadata": {},
     "output_type": "execute_result"
    }
   ],
   "source": [
    "p = (chi_square**2/(data_crosstab['Total'].max()+chi_square**2))**0.5\n",
    "p"
   ]
  },
  {
   "cell_type": "markdown",
   "id": "b46cdada",
   "metadata": {},
   "source": [
    "коэффициент Чупрова\n",
    "\n"
   ]
  },
  {
   "cell_type": "code",
   "execution_count": 12,
   "id": "82a845a2",
   "metadata": {},
   "outputs": [
    {
     "data": {
      "text/plain": [
       "2.7978066199707747"
      ]
     },
     "execution_count": 12,
     "metadata": {},
     "output_type": "execute_result"
    }
   ],
   "source": [
    "T = (chi_square**2/(data_crosstab['Total'].max()*((len(rows)-1)*(len(columns)-1))**0.5))**0.5\n",
    "T"
   ]
  },
  {
   "cell_type": "markdown",
   "id": "7fcb459a",
   "metadata": {},
   "source": [
    "коэффициент Крамерa\n",
    "\n"
   ]
  },
  {
   "cell_type": "code",
   "execution_count": 13,
   "id": "f6f14920",
   "metadata": {},
   "outputs": [
    {
     "data": {
      "text/plain": [
       "2.7978066199707747"
      ]
     },
     "execution_count": 13,
     "metadata": {},
     "output_type": "execute_result"
    }
   ],
   "source": [
    "K = (chi_square**2/(data_crosstab['Total'].max()*min((len(rows)-1),(len(columns)-1))))**0.5\n",
    "K"
   ]
  },
  {
   "cell_type": "markdown",
   "id": "c5fdd743",
   "metadata": {},
   "source": [
    "меры прогнозы Гутмана\n",
    "- p1 – вероятность ошибки 1-го прогноза\n",
    " - 1-й прогноз – угадывание одного признака без информации о другом"
   ]
  },
  {
   "cell_type": "code",
   "execution_count": 14,
   "id": "f39cbf05",
   "metadata": {},
   "outputs": [
    {
     "data": {
      "text/plain": [
       "0.34017732151189917"
      ]
     },
     "execution_count": 14,
     "metadata": {},
     "output_type": "execute_result"
    }
   ],
   "source": [
    "pb1 = 1 - 1414/2143\n",
    "pb1\n"
   ]
  },
  {
   "cell_type": "code",
   "execution_count": 15,
   "id": "9cfaedc7",
   "metadata": {},
   "outputs": [
    {
     "data": {
      "text/plain": [
       "0.3397106859542698"
      ]
     },
     "execution_count": 15,
     "metadata": {},
     "output_type": "execute_result"
    }
   ],
   "source": [
    "pb2 = 1 - (701/2143+666/2143+48/2143)\n",
    "pb2"
   ]
  },
  {
   "cell_type": "code",
   "execution_count": 16,
   "id": "a7e250d8",
   "metadata": {},
   "outputs": [
    {
     "data": {
      "text/plain": [
       "0.0013717421124825263"
      ]
     },
     "execution_count": 16,
     "metadata": {},
     "output_type": "execute_result"
    }
   ],
   "source": [
    "y = (pb1-pb2)/pb1\n",
    "y"
   ]
  },
  {
   "cell_type": "markdown",
   "id": "6f6fb10b",
   "metadata": {},
   "source": [
    "p2 – вероятность ошибки 2-го прогноза"
   ]
  },
  {
   "cell_type": "code",
   "execution_count": 17,
   "id": "91b0fbe3",
   "metadata": {},
   "outputs": [
    {
     "data": {
      "text/plain": [
       "0.45683621091927207"
      ]
     },
     "execution_count": 17,
     "metadata": {},
     "output_type": "execute_result"
    }
   ],
   "source": [
    "pb1 = 1 - 1164/2143\n",
    "pb1"
   ]
  },
  {
   "cell_type": "code",
   "execution_count": 18,
   "id": "ac757326",
   "metadata": {},
   "outputs": [
    {
     "data": {
      "text/plain": [
       "0.4405039664022399"
      ]
     },
     "execution_count": 18,
     "metadata": {},
     "output_type": "execute_result"
    }
   ],
   "source": [
    "pb2=1-(20/2143+701/2143+478/2143)\n",
    "pb2"
   ]
  },
  {
   "cell_type": "code",
   "execution_count": 19,
   "id": "71dcb42f",
   "metadata": {},
   "outputs": [
    {
     "data": {
      "text/plain": [
       "0.03575076608784472"
      ]
     },
     "execution_count": 19,
     "metadata": {},
     "output_type": "execute_result"
    }
   ],
   "source": [
    "y = (pb1-pb2)/pb1\n",
    "y"
   ]
  },
  {
   "cell_type": "markdown",
   "id": "c9bf8dea",
   "metadata": {},
   "source": [
    "## Итог: \n",
    "принимается альтернативная гипотеза на уровни значимости 0.05\n",
    "HA: найдутся i*, j* P(Ai* Bj*) ≠ P(Ai*) P(Bj*) (признаки зависимы)"
   ]
  },
  {
   "cell_type": "markdown",
   "id": "dfce6df2",
   "metadata": {},
   "source": [
    "Задача 1.2"
   ]
  },
  {
   "cell_type": "code",
   "execution_count": 20,
   "id": "5d8ca1cc",
   "metadata": {},
   "outputs": [],
   "source": [
    "import pandas as pd\n",
    "import scipy.stats as stats\n",
    "\n",
    "# create sample data according to survey\n",
    "data = [['Естественные науки', 'M'] for i in range(168)] + \\\n",
    "        [['Естественные науки', 'Ж'] for i in range(92)] + \\\n",
    "        [['Гуманитарные науки', 'M'] for i in range(85)] + \\\n",
    "        [['Гуманитарные науки', 'Ж'] for i in range(135)] \n",
    "       \n",
    "df = pd.DataFrame(data, columns = ['Специальность', 'Пол']) "
   ]
  },
  {
   "cell_type": "code",
   "execution_count": 21,
   "id": "f88c3bf4",
   "metadata": {},
   "outputs": [],
   "source": [
    "data_crosstab = pd.crosstab(df['Специальность'],\n",
    "                            df['Пол'],\n",
    "                           margins=True, margins_name=\"Total\")"
   ]
  },
  {
   "cell_type": "code",
   "execution_count": 22,
   "id": "a01ade1d",
   "metadata": {},
   "outputs": [
    {
     "data": {
      "text/html": [
       "<div>\n",
       "<style scoped>\n",
       "    .dataframe tbody tr th:only-of-type {\n",
       "        vertical-align: middle;\n",
       "    }\n",
       "\n",
       "    .dataframe tbody tr th {\n",
       "        vertical-align: top;\n",
       "    }\n",
       "\n",
       "    .dataframe thead th {\n",
       "        text-align: right;\n",
       "    }\n",
       "</style>\n",
       "<table border=\"1\" class=\"dataframe\">\n",
       "  <thead>\n",
       "    <tr style=\"text-align: right;\">\n",
       "      <th>Пол</th>\n",
       "      <th>M</th>\n",
       "      <th>Ж</th>\n",
       "      <th>Total</th>\n",
       "    </tr>\n",
       "    <tr>\n",
       "      <th>Специальность</th>\n",
       "      <th></th>\n",
       "      <th></th>\n",
       "      <th></th>\n",
       "    </tr>\n",
       "  </thead>\n",
       "  <tbody>\n",
       "    <tr>\n",
       "      <th>Гуманитарные науки</th>\n",
       "      <td>85</td>\n",
       "      <td>135</td>\n",
       "      <td>220</td>\n",
       "    </tr>\n",
       "    <tr>\n",
       "      <th>Естественные науки</th>\n",
       "      <td>168</td>\n",
       "      <td>92</td>\n",
       "      <td>260</td>\n",
       "    </tr>\n",
       "    <tr>\n",
       "      <th>Total</th>\n",
       "      <td>253</td>\n",
       "      <td>227</td>\n",
       "      <td>480</td>\n",
       "    </tr>\n",
       "  </tbody>\n",
       "</table>\n",
       "</div>"
      ],
      "text/plain": [
       "Пол                   M    Ж  Total\n",
       "Специальность                      \n",
       "Гуманитарные науки   85  135    220\n",
       "Естественные науки  168   92    260\n",
       "Total               253  227    480"
      ]
     },
     "execution_count": 22,
     "metadata": {},
     "output_type": "execute_result"
    }
   ],
   "source": [
    "data_crosstab"
   ]
  },
  {
   "cell_type": "code",
   "execution_count": 23,
   "id": "64120e7d",
   "metadata": {},
   "outputs": [],
   "source": [
    "alpha = 0.05\n",
    "\n",
    "chi_square = 0\n",
    "rows = df['Специальность'].unique()\n",
    "columns = df['Пол'].unique()\n",
    "for i in columns:\n",
    "    for j in rows:\n",
    "        O = data_crosstab[i][j]\n",
    "        E = data_crosstab[i]['Total'] * data_crosstab['Total'][j] / data_crosstab['Total']['Total']\n",
    "        chi_square += (O-E)**2/E"
   ]
  },
  {
   "cell_type": "code",
   "execution_count": 24,
   "id": "0b2de250",
   "metadata": {},
   "outputs": [
    {
     "data": {
      "text/plain": [
       "3.841458820694124"
      ]
     },
     "execution_count": 24,
     "metadata": {},
     "output_type": "execute_result"
    }
   ],
   "source": [
    "#статистику хи-квадрат\n",
    "critical_value = stats.chi2.ppf(1-alpha, (len(rows)-1)*(len(columns)-1))\n",
    "critical_value"
   ]
  },
  {
   "cell_type": "code",
   "execution_count": 25,
   "id": "c21e30bc",
   "metadata": {},
   "outputs": [
    {
     "data": {
      "text/plain": [
       "1.3449004465648784e-08"
      ]
     },
     "execution_count": 25,
     "metadata": {},
     "output_type": "execute_result"
    }
   ],
   "source": [
    "#P-значение для критерия хи-квадрат Фишера-Пирсона\n",
    "p_value = 1 - stats.chi2.cdf(chi_square, (len(rows)-1)*(len(columns)-1))\n",
    "p_value\n"
   ]
  },
  {
   "cell_type": "markdown",
   "id": "f5d230cf",
   "metadata": {},
   "source": [
    "HO: для всех i, j P(Ai Bj) = P(Ai) P(Bj) (признаки независимы)\n",
    "HA: найдутся i*, j* P(Ai* Bj*) ≠ P(Ai*) P(Bj*) (признаки зависимы)\n"
   ]
  },
  {
   "cell_type": "code",
   "execution_count": 26,
   "id": "84b333ef",
   "metadata": {},
   "outputs": [],
   "source": [
    "conclusion = \"Failed to reject the null hypothesis.\"\n",
    "if p_value <= alpha:\n",
    "    conclusion = \"Null Hypothesis is rejected\""
   ]
  },
  {
   "cell_type": "code",
   "execution_count": 27,
   "id": "dda85cb9",
   "metadata": {},
   "outputs": [
    {
     "name": "stdout",
     "output_type": "stream",
     "text": [
      "chisquare-score is: 32.26535509379269  and p value is: 1.3449004465648784e-08\n",
      "Null Hypothesis is rejected\n"
     ]
    }
   ],
   "source": [
    "print(\"chisquare-score is:\", chi_square, \" and p value is:\", p_value)\n",
    "print(conclusion)"
   ]
  },
  {
   "cell_type": "code",
   "execution_count": 28,
   "id": "f4f09bf9",
   "metadata": {},
   "outputs": [
    {
     "data": {
      "text/plain": [
       "1.4727052342320395"
      ]
     },
     "execution_count": 28,
     "metadata": {},
     "output_type": "execute_result"
    }
   ],
   "source": [
    "#kоэффициент среднеквадратической сопряжённости:\n",
    "x = (chi_square**2/data_crosstab['Total'].max())**0.5\n",
    "x"
   ]
  },
  {
   "cell_type": "code",
   "execution_count": 29,
   "id": "3c57b60c",
   "metadata": {},
   "outputs": [
    {
     "data": {
      "text/plain": [
       "0.8273023456307234"
      ]
     },
     "execution_count": 29,
     "metadata": {},
     "output_type": "execute_result"
    }
   ],
   "source": [
    "#коэффициент Пирсона\n",
    "p = (chi_square**2/(data_crosstab['Total'].max()+chi_square**2))**0.5\n",
    "p"
   ]
  },
  {
   "cell_type": "code",
   "execution_count": 30,
   "id": "dc0222d9",
   "metadata": {},
   "outputs": [
    {
     "data": {
      "text/plain": [
       "1.4727052342320395"
      ]
     },
     "execution_count": 30,
     "metadata": {},
     "output_type": "execute_result"
    }
   ],
   "source": [
    "#коэффициент Чупрова\n",
    "T = (chi_square**2/(data_crosstab['Total'].max()*((len(rows)-1)*(len(columns)-1))**0.5))**0.5\n",
    "T\n"
   ]
  },
  {
   "cell_type": "code",
   "execution_count": 31,
   "id": "7ba9e7da",
   "metadata": {},
   "outputs": [
    {
     "data": {
      "text/plain": [
       "1.4727052342320395"
      ]
     },
     "execution_count": 31,
     "metadata": {},
     "output_type": "execute_result"
    }
   ],
   "source": [
    "#коэффициент Крамерa\n",
    "K = (chi_square**2/(data_crosstab['Total'].max()*min((len(rows)-1),(len(columns)-1))))**0.5\n",
    "K\n"
   ]
  },
  {
   "cell_type": "markdown",
   "id": "8dd28226",
   "metadata": {},
   "source": [
    "меры прогнозы Гутмана\n",
    "- p1 – вероятность ошибки 1-го прогноза\n",
    " - 1-й прогноз – угадывание одного признака без информации о другом"
   ]
  },
  {
   "cell_type": "code",
   "execution_count": 32,
   "id": "456900c8",
   "metadata": {},
   "outputs": [
    {
     "data": {
      "text/html": [
       "<div>\n",
       "<style scoped>\n",
       "    .dataframe tbody tr th:only-of-type {\n",
       "        vertical-align: middle;\n",
       "    }\n",
       "\n",
       "    .dataframe tbody tr th {\n",
       "        vertical-align: top;\n",
       "    }\n",
       "\n",
       "    .dataframe thead th {\n",
       "        text-align: right;\n",
       "    }\n",
       "</style>\n",
       "<table border=\"1\" class=\"dataframe\">\n",
       "  <thead>\n",
       "    <tr style=\"text-align: right;\">\n",
       "      <th>Пол</th>\n",
       "      <th>M</th>\n",
       "      <th>Ж</th>\n",
       "      <th>Total</th>\n",
       "    </tr>\n",
       "    <tr>\n",
       "      <th>Специальность</th>\n",
       "      <th></th>\n",
       "      <th></th>\n",
       "      <th></th>\n",
       "    </tr>\n",
       "  </thead>\n",
       "  <tbody>\n",
       "    <tr>\n",
       "      <th>Гуманитарные науки</th>\n",
       "      <td>85</td>\n",
       "      <td>135</td>\n",
       "      <td>220</td>\n",
       "    </tr>\n",
       "    <tr>\n",
       "      <th>Естественные науки</th>\n",
       "      <td>168</td>\n",
       "      <td>92</td>\n",
       "      <td>260</td>\n",
       "    </tr>\n",
       "    <tr>\n",
       "      <th>Total</th>\n",
       "      <td>253</td>\n",
       "      <td>227</td>\n",
       "      <td>480</td>\n",
       "    </tr>\n",
       "  </tbody>\n",
       "</table>\n",
       "</div>"
      ],
      "text/plain": [
       "Пол                   M    Ж  Total\n",
       "Специальность                      \n",
       "Гуманитарные науки   85  135    220\n",
       "Естественные науки  168   92    260\n",
       "Total               253  227    480"
      ]
     },
     "execution_count": 32,
     "metadata": {},
     "output_type": "execute_result"
    }
   ],
   "source": [
    "data_crosstab"
   ]
  },
  {
   "cell_type": "code",
   "execution_count": 33,
   "id": "e4aba2de",
   "metadata": {},
   "outputs": [
    {
     "data": {
      "text/plain": [
       "0.47291666666666665"
      ]
     },
     "execution_count": 33,
     "metadata": {},
     "output_type": "execute_result"
    }
   ],
   "source": [
    "pb1 = 1 - 253/480\n",
    "pb1\n"
   ]
  },
  {
   "cell_type": "code",
   "execution_count": 34,
   "id": "098f094c",
   "metadata": {},
   "outputs": [
    {
     "data": {
      "text/plain": [
       "0.36875"
      ]
     },
     "execution_count": 34,
     "metadata": {},
     "output_type": "execute_result"
    }
   ],
   "source": [
    "pb2 = 1 - (168/480+135/480)\n",
    "pb2"
   ]
  },
  {
   "cell_type": "code",
   "execution_count": 35,
   "id": "1072b673",
   "metadata": {},
   "outputs": [
    {
     "data": {
      "text/plain": [
       "0.22026431718061668"
      ]
     },
     "execution_count": 35,
     "metadata": {},
     "output_type": "execute_result"
    }
   ],
   "source": [
    "y = (pb1-pb2)/pb1\n",
    "y"
   ]
  },
  {
   "cell_type": "markdown",
   "id": "03a7454a",
   "metadata": {},
   "source": [
    "– коэффициенты контингенции и ассоциации"
   ]
  },
  {
   "cell_type": "code",
   "execution_count": 36,
   "id": "4f0c1bba",
   "metadata": {},
   "outputs": [
    {
     "data": {
      "text/html": [
       "<div>\n",
       "<style scoped>\n",
       "    .dataframe tbody tr th:only-of-type {\n",
       "        vertical-align: middle;\n",
       "    }\n",
       "\n",
       "    .dataframe tbody tr th {\n",
       "        vertical-align: top;\n",
       "    }\n",
       "\n",
       "    .dataframe thead th {\n",
       "        text-align: right;\n",
       "    }\n",
       "</style>\n",
       "<table border=\"1\" class=\"dataframe\">\n",
       "  <thead>\n",
       "    <tr style=\"text-align: right;\">\n",
       "      <th>Пол</th>\n",
       "      <th>M</th>\n",
       "      <th>Ж</th>\n",
       "      <th>Total</th>\n",
       "    </tr>\n",
       "    <tr>\n",
       "      <th>Специальность</th>\n",
       "      <th></th>\n",
       "      <th></th>\n",
       "      <th></th>\n",
       "    </tr>\n",
       "  </thead>\n",
       "  <tbody>\n",
       "    <tr>\n",
       "      <th>Гуманитарные науки</th>\n",
       "      <td>85</td>\n",
       "      <td>135</td>\n",
       "      <td>220</td>\n",
       "    </tr>\n",
       "    <tr>\n",
       "      <th>Естественные науки</th>\n",
       "      <td>168</td>\n",
       "      <td>92</td>\n",
       "      <td>260</td>\n",
       "    </tr>\n",
       "    <tr>\n",
       "      <th>Total</th>\n",
       "      <td>253</td>\n",
       "      <td>227</td>\n",
       "      <td>480</td>\n",
       "    </tr>\n",
       "  </tbody>\n",
       "</table>\n",
       "</div>"
      ],
      "text/plain": [
       "Пол                   M    Ж  Total\n",
       "Специальность                      \n",
       "Гуманитарные науки   85  135    220\n",
       "Естественные науки  168   92    260\n",
       "Total               253  227    480"
      ]
     },
     "execution_count": 36,
     "metadata": {},
     "output_type": "execute_result"
    }
   ],
   "source": [
    "data_crosstab"
   ]
  },
  {
   "cell_type": "code",
   "execution_count": 37,
   "id": "f2890c56",
   "metadata": {},
   "outputs": [
    {
     "data": {
      "text/plain": [
       "-0.2592672169379206"
      ]
     },
     "execution_count": 37,
     "metadata": {},
     "output_type": "execute_result"
    }
   ],
   "source": [
    "#коэффициенты контингенции\n",
    "f = (85*92-135*168)/((85+135)*(168+92)*(85+168)*(135+92))**0.5\n",
    "f"
   ]
  },
  {
   "cell_type": "code",
   "execution_count": 38,
   "id": "e42efc25",
   "metadata": {},
   "outputs": [
    {
     "data": {
      "text/plain": [
       "-0.48721311475409834"
      ]
     },
     "execution_count": 38,
     "metadata": {},
     "output_type": "execute_result"
    }
   ],
   "source": [
    "#коэффициенты ассоциации\n",
    "q = (85*92-135*168)/(85*92+135*168) \n",
    "q"
   ]
  },
  {
   "cell_type": "markdown",
   "id": "90e62cbb",
   "metadata": {},
   "source": [
    "# 2.1 Zadacha"
   ]
  },
  {
   "cell_type": "code",
   "execution_count": 39,
   "id": "366b5fba",
   "metadata": {},
   "outputs": [
    {
     "data": {
      "text/html": [
       "<div>\n",
       "<style scoped>\n",
       "    .dataframe tbody tr th:only-of-type {\n",
       "        vertical-align: middle;\n",
       "    }\n",
       "\n",
       "    .dataframe tbody tr th {\n",
       "        vertical-align: top;\n",
       "    }\n",
       "\n",
       "    .dataframe thead th {\n",
       "        text-align: right;\n",
       "    }\n",
       "</style>\n",
       "<table border=\"1\" class=\"dataframe\">\n",
       "  <thead>\n",
       "    <tr style=\"text-align: right;\">\n",
       "      <th></th>\n",
       "      <th>1</th>\n",
       "      <th>2</th>\n",
       "      <th>3</th>\n",
       "      <th>4</th>\n",
       "      <th>5</th>\n",
       "      <th>6</th>\n",
       "      <th>7</th>\n",
       "      <th>8</th>\n",
       "      <th>9</th>\n",
       "      <th>10</th>\n",
       "      <th>11</th>\n",
       "      <th>12</th>\n",
       "      <th>13</th>\n",
       "      <th>14</th>\n",
       "      <th>15</th>\n",
       "    </tr>\n",
       "  </thead>\n",
       "  <tbody>\n",
       "    <tr>\n",
       "      <th>0</th>\n",
       "      <td>22.49</td>\n",
       "      <td>22.56</td>\n",
       "      <td>23.45</td>\n",
       "      <td>22.58</td>\n",
       "      <td>24.3</td>\n",
       "      <td>24.2</td>\n",
       "      <td>23.47</td>\n",
       "      <td>23.50</td>\n",
       "      <td>24.48</td>\n",
       "      <td>25.02</td>\n",
       "      <td>23.04</td>\n",
       "      <td>23.24</td>\n",
       "      <td>25.20</td>\n",
       "      <td>24.61</td>\n",
       "      <td>26.02</td>\n",
       "    </tr>\n",
       "    <tr>\n",
       "      <th>1</th>\n",
       "      <td>52.93</td>\n",
       "      <td>53.40</td>\n",
       "      <td>53.70</td>\n",
       "      <td>53.36</td>\n",
       "      <td>61.8</td>\n",
       "      <td>55.2</td>\n",
       "      <td>53.54</td>\n",
       "      <td>58.33</td>\n",
       "      <td>60.40</td>\n",
       "      <td>60.30</td>\n",
       "      <td>54.28</td>\n",
       "      <td>53.60</td>\n",
       "      <td>62.24</td>\n",
       "      <td>54.45</td>\n",
       "      <td>61.52</td>\n",
       "    </tr>\n",
       "  </tbody>\n",
       "</table>\n",
       "</div>"
      ],
      "text/plain": [
       "       1      2      3      4     5     6      7      8      9     10     11  \\\n",
       "0  22.49  22.56  23.45  22.58  24.3  24.2  23.47  23.50  24.48  25.02  23.04   \n",
       "1  52.93  53.40  53.70  53.36  61.8  55.2  53.54  58.33  60.40  60.30  54.28   \n",
       "\n",
       "      12     13     14     15  \n",
       "0  23.24  25.20  24.61  26.02  \n",
       "1  53.60  62.24  54.45  61.52  "
      ]
     },
     "execution_count": 39,
     "metadata": {},
     "output_type": "execute_result"
    }
   ],
   "source": [
    "x_simple = pd.DataFrame([(22.49,22.56,23.45,22.58, 24.3, 24.2, 23.47, 23.5, 24.48, 25.02, 23.04, 23.24, 25.2, 24.61, 26.02),\n",
    "                         (52.93,53.4,53.7, 53.36, 61.8, 55.2, 53.54, 58.33, 60.4, 60.3, 54.28, 53.6, 62.24, 54.45, 61.52)],\n",
    "                        columns=[\"1\",\"2\",\"3\",\"4\",\"5\",\"6\",\"7\",\"8\",\"9\",\"10\",\"11\",\"12\",\"13\",\"14\",\"15\"])\n",
    "x_simple"
   ]
  },
  {
   "cell_type": "code",
   "execution_count": 40,
   "id": "afb10660",
   "metadata": {},
   "outputs": [],
   "source": [
    "x_simplet = x_simple.transpose()"
   ]
  },
  {
   "cell_type": "code",
   "execution_count": 41,
   "id": "c7d413f0",
   "metadata": {},
   "outputs": [],
   "source": [
    "from scipy.stats import spearmanr\n"
   ]
  },
  {
   "cell_type": "code",
   "execution_count": 42,
   "id": "d00295e6",
   "metadata": {},
   "outputs": [],
   "source": [
    "corr, pvalue = spearmanr(x_simplet[0], x_simplet[1])\n"
   ]
  },
  {
   "cell_type": "code",
   "execution_count": 43,
   "id": "1b3a5605",
   "metadata": {},
   "outputs": [
    {
     "name": "stdout",
     "output_type": "stream",
     "text": [
      "Correlation Spearman value: 0.8821428571428571\n",
      "pvalue Spearman: 1.3558210624788689e-05\n"
     ]
    }
   ],
   "source": [
    "print(\"Correlation Spearman value:\",corr)\n",
    "print(\"pvalue Spearman:\",pvalue)\n"
   ]
  },
  {
   "cell_type": "code",
   "execution_count": 44,
   "id": "fe0b1f12",
   "metadata": {},
   "outputs": [],
   "source": [
    "chiRes2 = stats.chi2_contingency(x_simplet)\n"
   ]
  },
  {
   "cell_type": "markdown",
   "id": "bc0b1ea3",
   "metadata": {},
   "source": [
    "Cramer:"
   ]
  },
  {
   "cell_type": "code",
   "execution_count": 45,
   "id": "7751daf9",
   "metadata": {},
   "outputs": [],
   "source": [
    "import scipy.stats as stats"
   ]
  },
  {
   "cell_type": "code",
   "execution_count": 46,
   "id": "b65d0c7e",
   "metadata": {},
   "outputs": [],
   "source": [
    "tau, p_value = stats.kendalltau(x_simplet[0], x_simplet[1])\n"
   ]
  },
  {
   "cell_type": "code",
   "execution_count": 47,
   "id": "188bfed0",
   "metadata": {},
   "outputs": [
    {
     "data": {
      "text/plain": [
       "0.6952380952380953"
      ]
     },
     "execution_count": 47,
     "metadata": {},
     "output_type": "execute_result"
    }
   ],
   "source": [
    "tau"
   ]
  },
  {
   "cell_type": "code",
   "execution_count": 48,
   "id": "dbd5d57f",
   "metadata": {},
   "outputs": [
    {
     "data": {
      "text/plain": [
       "1.3558210624788689e-05"
      ]
     },
     "execution_count": 48,
     "metadata": {},
     "output_type": "execute_result"
    }
   ],
   "source": [
    "pvalue"
   ]
  },
  {
   "cell_type": "markdown",
   "id": "44148740",
   "metadata": {},
   "source": [
    "разбивая диапазон количественных признаков на несколько интервалов строит\n",
    "по наблюдениям таблицу сопряжённости, вычисляет нормированные коэффициенты\n",
    "связи (Пирсона, Крамера и др.), меры прогноза Гутмана и P-значение для\n",
    "критерия хи-квадрат Фишера-Пирсона"
   ]
  },
  {
   "cell_type": "code",
   "execution_count": 49,
   "id": "11f4de4f",
   "metadata": {},
   "outputs": [],
   "source": [
    "x_simplet.columns = ['a', 'b']"
   ]
  },
  {
   "cell_type": "code",
   "execution_count": 50,
   "id": "efcefbe7",
   "metadata": {},
   "outputs": [],
   "source": [
    "import matplotlib.pyplot as plt"
   ]
  },
  {
   "cell_type": "code",
   "execution_count": 51,
   "id": "9256e852",
   "metadata": {},
   "outputs": [
    {
     "data": {
      "text/plain": [
       "<matplotlib.collections.PathCollection at 0x242d3e4e808>"
      ]
     },
     "execution_count": 51,
     "metadata": {},
     "output_type": "execute_result"
    },
    {
     "data": {
      "image/png": "[encoded data removed]",
      "text/plain": [
       "<Figure size 640x480 with 1 Axes>"
      ]
     },
     "metadata": {},
     "output_type": "display_data"
    }
   ],
   "source": [
    "plt.scatter(x_simplet['a'], x_simplet['b'])"
   ]
  },
  {
   "cell_type": "code",
   "execution_count": 66,
   "id": "ff38da1a",
   "metadata": {},
   "outputs": [],
   "source": [
    "conditions  = [(x_simplet['a'] < 23.5), \n",
    "               (x_simplet['a'] >= 23.5) & (x_simplet['a']< 25),\n",
    "               (x_simplet['a'] >= 25)]\n",
    "    "
   ]
  },
  {
   "cell_type": "code",
   "execution_count": 67,
   "id": "18bfdff2",
   "metadata": {},
   "outputs": [],
   "source": [
    "choices  = [ \"a_1\", 'a_2', 'a_3']\n",
    "import numpy as np"
   ]
  },
  {
   "cell_type": "code",
   "execution_count": 68,
   "id": "cc54e2c6",
   "metadata": {},
   "outputs": [],
   "source": [
    "x_simplet[\"a_class\"] = np.select(conditions, choices, default=np.nan)\n"
   ]
  },
  {
   "cell_type": "code",
   "execution_count": 69,
   "id": "0804a258",
   "metadata": {},
   "outputs": [],
   "source": [
    "conditions  = [(x_simplet['b'] < 56), \n",
    "               (x_simplet['b'] >= 56)]\n",
    "\n",
    "choices  = [ \"b_1\", 'b_2']\n",
    "import numpy as np\n",
    "    "
   ]
  },
  {
   "cell_type": "code",
   "execution_count": 70,
   "id": "51be5712",
   "metadata": {},
   "outputs": [],
   "source": [
    "x_simplet[\"b_class\"] = np.select(conditions, choices, default=np.nan)\n"
   ]
  },
  {
   "cell_type": "code",
   "execution_count": 72,
   "id": "44100170",
   "metadata": {},
   "outputs": [],
   "source": [
    "data_crosstab = pd.crosstab(x_simplet['a_class'],\n",
    "                            x_simplet['b_class'],\n",
    "                           margins=True, margins_name=\"Total\")"
   ]
  },
  {
   "cell_type": "code",
   "execution_count": 73,
   "id": "74766bcb",
   "metadata": {},
   "outputs": [
    {
     "data": {
      "text/html": [
       "<div>\n",
       "<style scoped>\n",
       "    .dataframe tbody tr th:only-of-type {\n",
       "        vertical-align: middle;\n",
       "    }\n",
       "\n",
       "    .dataframe tbody tr th {\n",
       "        vertical-align: top;\n",
       "    }\n",
       "\n",
       "    .dataframe thead th {\n",
       "        text-align: right;\n",
       "    }\n",
       "</style>\n",
       "<table border=\"1\" class=\"dataframe\">\n",
       "  <thead>\n",
       "    <tr style=\"text-align: right;\">\n",
       "      <th>b_class</th>\n",
       "      <th>b_1</th>\n",
       "      <th>b_2</th>\n",
       "      <th>Total</th>\n",
       "    </tr>\n",
       "    <tr>\n",
       "      <th>a_class</th>\n",
       "      <th></th>\n",
       "      <th></th>\n",
       "      <th></th>\n",
       "    </tr>\n",
       "  </thead>\n",
       "  <tbody>\n",
       "    <tr>\n",
       "      <th>a_1</th>\n",
       "      <td>7</td>\n",
       "      <td>0</td>\n",
       "      <td>7</td>\n",
       "    </tr>\n",
       "    <tr>\n",
       "      <th>a_2</th>\n",
       "      <td>2</td>\n",
       "      <td>3</td>\n",
       "      <td>5</td>\n",
       "    </tr>\n",
       "    <tr>\n",
       "      <th>a_3</th>\n",
       "      <td>0</td>\n",
       "      <td>3</td>\n",
       "      <td>3</td>\n",
       "    </tr>\n",
       "    <tr>\n",
       "      <th>Total</th>\n",
       "      <td>9</td>\n",
       "      <td>6</td>\n",
       "      <td>15</td>\n",
       "    </tr>\n",
       "  </tbody>\n",
       "</table>\n",
       "</div>"
      ],
      "text/plain": [
       "b_class  b_1  b_2  Total\n",
       "a_class                 \n",
       "a_1        7    0      7\n",
       "a_2        2    3      5\n",
       "a_3        0    3      3\n",
       "Total      9    6     15"
      ]
     },
     "execution_count": 73,
     "metadata": {},
     "output_type": "execute_result"
    }
   ],
   "source": [
    "data_crosstab"
   ]
  },
  {
   "cell_type": "code",
   "execution_count": 74,
   "id": "e6c86578",
   "metadata": {},
   "outputs": [
    {
     "data": {
      "text/plain": [
       "<matplotlib.collections.PathCollection at 0x242d5408048>"
      ]
     },
     "execution_count": 74,
     "metadata": {},
     "output_type": "execute_result"
    },
    {
     "data": {
      "image/png": "[encoded data removed]",
      "text/plain": [
       "<Figure size 640x480 with 1 Axes>"
      ]
     },
     "metadata": {},
     "output_type": "display_data"
    }
   ],
   "source": [
    "plt.scatter(x_simplet['a'], x_simplet['b'])"
   ]
  },
  {
   "cell_type": "code",
   "execution_count": 84,
   "id": "685e16ca",
   "metadata": {},
   "outputs": [],
   "source": [
    "alpha = 0.05\n",
    "\n",
    "chi_square = 0\n",
    "rows = x_simplet['a_class'].unique()\n",
    "columns = x_simplet['b_class'].unique()\n",
    "for i in columns:\n",
    "    for j in rows:\n",
    "        O = data_crosstab[i][j]\n",
    "        E = data_crosstab[i]['Total'] * data_crosstab['Total'][j] / data_crosstab['Total']['Total']\n",
    "        chi_square += (O-E)**2/E"
   ]
  },
  {
   "cell_type": "code",
   "execution_count": 85,
   "id": "d58d404e",
   "metadata": {},
   "outputs": [
    {
     "data": {
      "text/plain": [
       "10.0"
      ]
     },
     "execution_count": 85,
     "metadata": {},
     "output_type": "execute_result"
    }
   ],
   "source": [
    "chi_square"
   ]
  },
  {
   "cell_type": "code",
   "execution_count": 86,
   "id": "ac50b52a",
   "metadata": {},
   "outputs": [
    {
     "data": {
      "text/plain": [
       "0.9325048082403138"
      ]
     },
     "execution_count": 86,
     "metadata": {},
     "output_type": "execute_result"
    }
   ],
   "source": [
    "#коэффициент Пирсона\n",
    "p = (chi_square**2/(data_crosstab['Total'].max()+chi_square**2))**0.5\n",
    "p"
   ]
  },
  {
   "cell_type": "code",
   "execution_count": 87,
   "id": "297ded53",
   "metadata": {},
   "outputs": [
    {
     "data": {
      "text/plain": [
       "2.171185208108769"
      ]
     },
     "execution_count": 87,
     "metadata": {},
     "output_type": "execute_result"
    }
   ],
   "source": [
    "#коэффициент Чупрова\n",
    "T = (chi_square**2/(data_crosstab['Total'].max()*((len(rows)-1)*(len(columns)-1))**0.5))**0.5\n",
    "T\n"
   ]
  },
  {
   "cell_type": "code",
   "execution_count": 88,
   "id": "651e6698",
   "metadata": {},
   "outputs": [
    {
     "data": {
      "text/plain": [
       "2.581988897471611"
      ]
     },
     "execution_count": 88,
     "metadata": {},
     "output_type": "execute_result"
    }
   ],
   "source": [
    "#коэффициент Крамерa\n",
    "K = (chi_square**2/(data_crosstab['Total'].max()*min((len(rows)-1),(len(columns)-1))))**0.5\n",
    "K\n"
   ]
  },
  {
   "cell_type": "code",
   "execution_count": 89,
   "id": "6aa1e866",
   "metadata": {},
   "outputs": [
    {
     "data": {
      "text/plain": [
       "0.006737946999085476"
      ]
     },
     "execution_count": 89,
     "metadata": {},
     "output_type": "execute_result"
    }
   ],
   "source": [
    "#P-значение для критерия хи-квадрат Фишера-Пирсона\n",
    "p_value = 1 - stats.chi2.cdf(chi_square, (len(rows)-1)*(len(columns)-1))\n",
    "p_value\n"
   ]
  },
  {
   "cell_type": "code",
   "execution_count": 90,
   "id": "0f8bbf9e",
   "metadata": {},
   "outputs": [],
   "source": [
    "#HO: для всех i, j P(Ai Bj) = P(Ai) P(Bj) (признаки независимы)\n",
    "#HA: найдутся i*, j* P(Ai* Bj*) ≠ P(Ai*) P(Bj*) (признаки зависимы)\n",
    "conclusion = \"Failed to reject the null hypothesis.\"\n",
    "if p_value <= alpha:\n",
    "    conclusion = \"Null Hypothesis is rejected\"\n"
   ]
  },
  {
   "cell_type": "code",
   "execution_count": 91,
   "id": "67b30252",
   "metadata": {},
   "outputs": [
    {
     "name": "stdout",
     "output_type": "stream",
     "text": [
      "chisquare-score is: 10.0  and p value is: 0.006737946999085476\n",
      "Null Hypothesis is rejected\n"
     ]
    }
   ],
   "source": [
    "print(\"chisquare-score is:\", chi_square, \" and p value is:\", p_value)\n",
    "print(conclusion)"
   ]
  },
  {
   "cell_type": "markdown",
   "id": "f0ed62a3",
   "metadata": {},
   "source": [
    "# 2.2 Zadacha"
   ]
  },
  {
   "cell_type": "code",
   "execution_count": 92,
   "id": "809355ac",
   "metadata": {},
   "outputs": [
    {
     "data": {
      "text/html": [
       "<div>\n",
       "<style scoped>\n",
       "    .dataframe tbody tr th:only-of-type {\n",
       "        vertical-align: middle;\n",
       "    }\n",
       "\n",
       "    .dataframe tbody tr th {\n",
       "        vertical-align: top;\n",
       "    }\n",
       "\n",
       "    .dataframe thead th {\n",
       "        text-align: right;\n",
       "    }\n",
       "</style>\n",
       "<table border=\"1\" class=\"dataframe\">\n",
       "  <thead>\n",
       "    <tr style=\"text-align: right;\">\n",
       "      <th></th>\n",
       "      <th>Годы</th>\n",
       "      <th>Пшеница</th>\n",
       "      <th>Картофель</th>\n",
       "    </tr>\n",
       "  </thead>\n",
       "  <tbody>\n",
       "    <tr>\n",
       "      <th>0</th>\n",
       "      <td>1926</td>\n",
       "      <td>20.1</td>\n",
       "      <td>7.2</td>\n",
       "    </tr>\n",
       "    <tr>\n",
       "      <th>1</th>\n",
       "      <td>1927</td>\n",
       "      <td>23.6</td>\n",
       "      <td>7.1</td>\n",
       "    </tr>\n",
       "    <tr>\n",
       "      <th>2</th>\n",
       "      <td>1928</td>\n",
       "      <td>26.3</td>\n",
       "      <td>7.4</td>\n",
       "    </tr>\n",
       "    <tr>\n",
       "      <th>3</th>\n",
       "      <td>1929</td>\n",
       "      <td>19.9</td>\n",
       "      <td>6.1</td>\n",
       "    </tr>\n",
       "    <tr>\n",
       "      <th>4</th>\n",
       "      <td>1930</td>\n",
       "      <td>16.7</td>\n",
       "      <td>6.0</td>\n",
       "    </tr>\n",
       "    <tr>\n",
       "      <th>5</th>\n",
       "      <td>1931</td>\n",
       "      <td>23.2</td>\n",
       "      <td>7.3</td>\n",
       "    </tr>\n",
       "    <tr>\n",
       "      <th>6</th>\n",
       "      <td>1932</td>\n",
       "      <td>31.4</td>\n",
       "      <td>9.4</td>\n",
       "    </tr>\n",
       "    <tr>\n",
       "      <th>7</th>\n",
       "      <td>1933</td>\n",
       "      <td>33.5</td>\n",
       "      <td>9.2</td>\n",
       "    </tr>\n",
       "    <tr>\n",
       "      <th>8</th>\n",
       "      <td>1934</td>\n",
       "      <td>28.2</td>\n",
       "      <td>8.8</td>\n",
       "    </tr>\n",
       "    <tr>\n",
       "      <th>9</th>\n",
       "      <td>1935</td>\n",
       "      <td>35.3</td>\n",
       "      <td>10.4</td>\n",
       "    </tr>\n",
       "    <tr>\n",
       "      <th>10</th>\n",
       "      <td>1936</td>\n",
       "      <td>29.3</td>\n",
       "      <td>8.0</td>\n",
       "    </tr>\n",
       "  </tbody>\n",
       "</table>\n",
       "</div>"
      ],
      "text/plain": [
       "    Годы  Пшеница  Картофель\n",
       "0   1926     20.1        7.2\n",
       "1   1927     23.6        7.1\n",
       "2   1928     26.3        7.4\n",
       "3   1929     19.9        6.1\n",
       "4   1930     16.7        6.0\n",
       "5   1931     23.2        7.3\n",
       "6   1932     31.4        9.4\n",
       "7   1933     33.5        9.2\n",
       "8   1934     28.2        8.8\n",
       "9   1935     35.3       10.4\n",
       "10  1936     29.3        8.0"
      ]
     },
     "execution_count": 92,
     "metadata": {},
     "output_type": "execute_result"
    }
   ],
   "source": [
    "x_simple = pd.DataFrame({ 'Годы': [1926, 1927, 1928, 1929, 1930, 1931, 1932, 1933, 1934, 1935, 1936],\n",
    "                         'Пшеница':[20.1, 23.6, 26.3, 19.9, 16.7, 23.2, 31.4, 33.5, 28.2, 35.3, 29.3],\n",
    "                         'Картофель':[7.2, 7.1, 7.4, 6.1, 6.0, 7.3, 9.4, 9.2, 8.8, 10.4, 8]\n",
    "    \n",
    "    \n",
    "})\n",
    "x_simple"
   ]
  },
  {
   "cell_type": "code",
   "execution_count": 94,
   "id": "ca2e2226",
   "metadata": {},
   "outputs": [],
   "source": [
    "from scipy.stats import spearmanr\n",
    "corr, pvalue = spearmanr(x_simple['Пшеница'], x_simple['Картофель'])\n"
   ]
  },
  {
   "cell_type": "code",
   "execution_count": 95,
   "id": "2e4797dd",
   "metadata": {},
   "outputs": [
    {
     "name": "stdout",
     "output_type": "stream",
     "text": [
      "Correlation Spearman value: 0.9545454545454546\n",
      "pvalue Spearman: 4.988898739949763e-06\n"
     ]
    }
   ],
   "source": [
    "print(\"Correlation Spearman value:\",corr)\n",
    "print(\"pvalue Spearman:\",pvalue)\n"
   ]
  },
  {
   "cell_type": "code",
   "execution_count": 96,
   "id": "e1b5b483",
   "metadata": {},
   "outputs": [],
   "source": [
    "tau, p_value = stats.kendalltau(x_simple['Пшеница'], x_simple['Картофель'])\n"
   ]
  },
  {
   "cell_type": "code",
   "execution_count": 97,
   "id": "8c277efa",
   "metadata": {},
   "outputs": [
    {
     "name": "stdout",
     "output_type": "stream",
     "text": [
      "Correlation kendall value: 0.8545454545454545\n",
      "pvalue Spearman: 4.988898739949763e-06\n"
     ]
    }
   ],
   "source": [
    "print(\"Correlation kendall value:\",tau)\n",
    "print(\"pvalue Spearman:\",pvalue)\n"
   ]
  },
  {
   "cell_type": "markdown",
   "id": "dc810677",
   "metadata": {},
   "source": [
    "разбивая диапазон количественных признаков на несколько интервалов строит\n",
    "по наблюдениям таблицу сопряжённости, вычисляет нормированные коэффициенты\n",
    "связи (Пирсона, Крамера и др.), меры прогноза Гутмана и P-значение для\n",
    "критерия хи-квадрат Фишера-Пирсона"
   ]
  },
  {
   "cell_type": "code",
   "execution_count": 98,
   "id": "9b001ad4",
   "metadata": {},
   "outputs": [
    {
     "data": {
      "text/plain": [
       "<matplotlib.collections.PathCollection at 0x242d54f18c8>"
      ]
     },
     "execution_count": 98,
     "metadata": {},
     "output_type": "execute_result"
    },
    {
     "data": {
      "image/png": "[encoded data removed]",
      "text/plain": [
       "<Figure size 640x480 with 1 Axes>"
      ]
     },
     "metadata": {},
     "output_type": "display_data"
    }
   ],
   "source": [
    "plt.scatter(x_simple['Пшеница'], x_simple['Картофель'])"
   ]
  },
  {
   "cell_type": "code",
   "execution_count": 100,
   "id": "11ecf4eb",
   "metadata": {},
   "outputs": [],
   "source": [
    "conditions  = [(x_simple['Пшеница'] < 23.5), \n",
    "               (x_simple['Пшеница'] >= 23.5)]\n",
    "    "
   ]
  },
  {
   "cell_type": "code",
   "execution_count": 101,
   "id": "fa320c76",
   "metadata": {},
   "outputs": [],
   "source": [
    "choices  = [ \"a_1\", 'a_2']\n",
    "import numpy as np"
   ]
  },
  {
   "cell_type": "code",
   "execution_count": 102,
   "id": "635ad6f9",
   "metadata": {},
   "outputs": [],
   "source": [
    "x_simple[\"a_class\"] = np.select(conditions, choices, default=np.nan)\n"
   ]
  },
  {
   "cell_type": "code",
   "execution_count": 105,
   "id": "3f416173",
   "metadata": {},
   "outputs": [],
   "source": [
    "conditions  = [(x_simple['Картофель'] < 7.5), \n",
    "               (x_simple['Картофель'] >= 7.5)]\n",
    "\n",
    "choices  = [ \"b_1\", 'b_2']\n",
    "import numpy as np\n",
    "    "
   ]
  },
  {
   "cell_type": "code",
   "execution_count": 106,
   "id": "e8a7bbdb",
   "metadata": {},
   "outputs": [],
   "source": [
    "x_simple[\"b_class\"] = np.select(conditions, choices, default=np.nan)\n"
   ]
  },
  {
   "cell_type": "code",
   "execution_count": 107,
   "id": "92704519",
   "metadata": {},
   "outputs": [
    {
     "data": {
      "text/html": [
       "<div>\n",
       "<style scoped>\n",
       "    .dataframe tbody tr th:only-of-type {\n",
       "        vertical-align: middle;\n",
       "    }\n",
       "\n",
       "    .dataframe tbody tr th {\n",
       "        vertical-align: top;\n",
       "    }\n",
       "\n",
       "    .dataframe thead th {\n",
       "        text-align: right;\n",
       "    }\n",
       "</style>\n",
       "<table border=\"1\" class=\"dataframe\">\n",
       "  <thead>\n",
       "    <tr style=\"text-align: right;\">\n",
       "      <th></th>\n",
       "      <th>Годы</th>\n",
       "      <th>Пшеница</th>\n",
       "      <th>Картофель</th>\n",
       "      <th>a_class</th>\n",
       "      <th>b_class</th>\n",
       "    </tr>\n",
       "  </thead>\n",
       "  <tbody>\n",
       "    <tr>\n",
       "      <th>0</th>\n",
       "      <td>1926</td>\n",
       "      <td>20.1</td>\n",
       "      <td>7.2</td>\n",
       "      <td>a_1</td>\n",
       "      <td>b_1</td>\n",
       "    </tr>\n",
       "    <tr>\n",
       "      <th>1</th>\n",
       "      <td>1927</td>\n",
       "      <td>23.6</td>\n",
       "      <td>7.1</td>\n",
       "      <td>a_2</td>\n",
       "      <td>b_1</td>\n",
       "    </tr>\n",
       "    <tr>\n",
       "      <th>2</th>\n",
       "      <td>1928</td>\n",
       "      <td>26.3</td>\n",
       "      <td>7.4</td>\n",
       "      <td>a_2</td>\n",
       "      <td>b_1</td>\n",
       "    </tr>\n",
       "    <tr>\n",
       "      <th>3</th>\n",
       "      <td>1929</td>\n",
       "      <td>19.9</td>\n",
       "      <td>6.1</td>\n",
       "      <td>a_1</td>\n",
       "      <td>b_1</td>\n",
       "    </tr>\n",
       "    <tr>\n",
       "      <th>4</th>\n",
       "      <td>1930</td>\n",
       "      <td>16.7</td>\n",
       "      <td>6.0</td>\n",
       "      <td>a_1</td>\n",
       "      <td>b_1</td>\n",
       "    </tr>\n",
       "    <tr>\n",
       "      <th>5</th>\n",
       "      <td>1931</td>\n",
       "      <td>23.2</td>\n",
       "      <td>7.3</td>\n",
       "      <td>a_1</td>\n",
       "      <td>b_1</td>\n",
       "    </tr>\n",
       "    <tr>\n",
       "      <th>6</th>\n",
       "      <td>1932</td>\n",
       "      <td>31.4</td>\n",
       "      <td>9.4</td>\n",
       "      <td>a_2</td>\n",
       "      <td>b_2</td>\n",
       "    </tr>\n",
       "    <tr>\n",
       "      <th>7</th>\n",
       "      <td>1933</td>\n",
       "      <td>33.5</td>\n",
       "      <td>9.2</td>\n",
       "      <td>a_2</td>\n",
       "      <td>b_2</td>\n",
       "    </tr>\n",
       "    <tr>\n",
       "      <th>8</th>\n",
       "      <td>1934</td>\n",
       "      <td>28.2</td>\n",
       "      <td>8.8</td>\n",
       "      <td>a_2</td>\n",
       "      <td>b_2</td>\n",
       "    </tr>\n",
       "    <tr>\n",
       "      <th>9</th>\n",
       "      <td>1935</td>\n",
       "      <td>35.3</td>\n",
       "      <td>10.4</td>\n",
       "      <td>a_2</td>\n",
       "      <td>b_2</td>\n",
       "    </tr>\n",
       "    <tr>\n",
       "      <th>10</th>\n",
       "      <td>1936</td>\n",
       "      <td>29.3</td>\n",
       "      <td>8.0</td>\n",
       "      <td>a_2</td>\n",
       "      <td>b_2</td>\n",
       "    </tr>\n",
       "  </tbody>\n",
       "</table>\n",
       "</div>"
      ],
      "text/plain": [
       "    Годы  Пшеница  Картофель a_class b_class\n",
       "0   1926     20.1        7.2     a_1     b_1\n",
       "1   1927     23.6        7.1     a_2     b_1\n",
       "2   1928     26.3        7.4     a_2     b_1\n",
       "3   1929     19.9        6.1     a_1     b_1\n",
       "4   1930     16.7        6.0     a_1     b_1\n",
       "5   1931     23.2        7.3     a_1     b_1\n",
       "6   1932     31.4        9.4     a_2     b_2\n",
       "7   1933     33.5        9.2     a_2     b_2\n",
       "8   1934     28.2        8.8     a_2     b_2\n",
       "9   1935     35.3       10.4     a_2     b_2\n",
       "10  1936     29.3        8.0     a_2     b_2"
      ]
     },
     "execution_count": 107,
     "metadata": {},
     "output_type": "execute_result"
    }
   ],
   "source": [
    "x_simple"
   ]
  },
  {
   "cell_type": "code",
   "execution_count": 110,
   "id": "d08266cf",
   "metadata": {},
   "outputs": [],
   "source": [
    "data_crosstab = pd.crosstab(x_simple['a_class'],\n",
    "                            x_simple['b_class'],\n",
    "                           margins=True, margins_name=\"Total\")"
   ]
  },
  {
   "cell_type": "code",
   "execution_count": 113,
   "id": "a705870c",
   "metadata": {},
   "outputs": [],
   "source": [
    "alpha = 0.05\n",
    "\n",
    "chi_square = 0\n",
    "rows = x_simple['a_class'].unique()\n",
    "columns = x_simple['b_class'].unique()\n",
    "for i in columns:\n",
    "    for j in rows:\n",
    "        O = data_crosstab[i][j]\n",
    "        E = data_crosstab[i]['Total'] * data_crosstab['Total'][j] / data_crosstab['Total']['Total']\n",
    "        chi_square += (O-E)**2/E"
   ]
  },
  {
   "cell_type": "code",
   "execution_count": 114,
   "id": "c7bd9461",
   "metadata": {},
   "outputs": [
    {
     "data": {
      "text/plain": [
       "5.238095238095239"
      ]
     },
     "execution_count": 114,
     "metadata": {},
     "output_type": "execute_result"
    }
   ],
   "source": [
    "chi_square"
   ]
  },
  {
   "cell_type": "code",
   "execution_count": 115,
   "id": "c6ecd51a",
   "metadata": {},
   "outputs": [
    {
     "data": {
      "text/plain": [
       "0.8448799875609089"
      ]
     },
     "execution_count": 115,
     "metadata": {},
     "output_type": "execute_result"
    }
   ],
   "source": [
    "#коэффициент Пирсона\n",
    "p = (chi_square**2/(data_crosstab['Total'].max()+chi_square**2))**0.5\n",
    "p"
   ]
  },
  {
   "cell_type": "code",
   "execution_count": 116,
   "id": "37182def",
   "metadata": {},
   "outputs": [
    {
     "data": {
      "text/plain": [
       "1.5793451382644763"
      ]
     },
     "execution_count": 116,
     "metadata": {},
     "output_type": "execute_result"
    }
   ],
   "source": [
    "#коэффициент Чупрова\n",
    "T = (chi_square**2/(data_crosstab['Total'].max()*((len(rows)-1)*(len(columns)-1))**0.5))**0.5\n",
    "T\n"
   ]
  },
  {
   "cell_type": "code",
   "execution_count": 117,
   "id": "7fa7f7f6",
   "metadata": {},
   "outputs": [
    {
     "data": {
      "text/plain": [
       "1.5793451382644763"
      ]
     },
     "execution_count": 117,
     "metadata": {},
     "output_type": "execute_result"
    }
   ],
   "source": [
    "#коэффициент Крамерa\n",
    "K = (chi_square**2/(data_crosstab['Total'].max()*min((len(rows)-1),(len(columns)-1))))**0.5\n",
    "K\n"
   ]
  },
  {
   "cell_type": "code",
   "execution_count": 118,
   "id": "0b32c00c",
   "metadata": {},
   "outputs": [
    {
     "data": {
      "text/plain": [
       "0.02209745528422724"
      ]
     },
     "execution_count": 118,
     "metadata": {},
     "output_type": "execute_result"
    }
   ],
   "source": [
    "#P-значение для критерия хи-квадрат Фишера-Пирсона\n",
    "p_value = 1 - stats.chi2.cdf(chi_square, (len(rows)-1)*(len(columns)-1))\n",
    "p_value\n"
   ]
  },
  {
   "cell_type": "code",
   "execution_count": 119,
   "id": "fe34f982",
   "metadata": {},
   "outputs": [],
   "source": [
    "#HO: для всех i, j P(Ai Bj) = P(Ai) P(Bj) (признаки независимы)\n",
    "#HA: найдутся i*, j* P(Ai* Bj*) ≠ P(Ai*) P(Bj*) (признаки зависимы)\n",
    "conclusion = \"Failed to reject the null hypothesis.\"\n",
    "if p_value <= alpha:\n",
    "    conclusion = \"Null Hypothesis is rejected\"\n"
   ]
  },
  {
   "cell_type": "code",
   "execution_count": 120,
   "id": "679f823a",
   "metadata": {},
   "outputs": [
    {
     "name": "stdout",
     "output_type": "stream",
     "text": [
      "chisquare-score is: 5.238095238095239  and p value is: 0.02209745528422724\n",
      "Null Hypothesis is rejected\n"
     ]
    }
   ],
   "source": [
    "print(\"chisquare-score is:\", chi_square, \" and p value is:\", p_value)\n",
    "print(conclusion)"
   ]
  },
  {
   "cell_type": "code",
   "execution_count": null,
   "id": "1770f9d4",
   "metadata": {},
   "outputs": [],
   "source": []
  }
 ],
 "metadata": {
  "kernelspec": {
   "display_name": "Python 3 (ipykernel)",
   "language": "python",
   "name": "python3"
  },
  "language_info": {
   "codemirror_mode": {
    "name": "ipython",
    "version": 3
   },
   "file_extension": ".py",
   "mimetype": "text/x-python",
   "name": "python",
   "nbconvert_exporter": "python",
   "pygments_lexer": "ipython3",
   "version": "3.7.9"
  }
 },
 "nbformat": 4,
 "nbformat_minor": 5
}
